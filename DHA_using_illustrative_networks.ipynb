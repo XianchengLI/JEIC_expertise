{
 "cells": [
  {
   "cell_type": "markdown",
   "metadata": {},
   "source": [
    "## we use the illustrative networks in our paper (Fig.7 and Fig.8) to show how our method works on simple examples "
   ]
  },
  {
   "cell_type": "code",
   "execution_count": 1,
   "metadata": {},
   "outputs": [],
   "source": [
    "import numpy as np"
   ]
  },
  {
   "cell_type": "markdown",
   "metadata": {},
   "source": [
    "implement equation 26"
   ]
  },
  {
   "cell_type": "code",
   "execution_count": 2,
   "metadata": {},
   "outputs": [],
   "source": [
    "def DHA(i,k,j):\n",
    "    M_pm = M_mp.transpose()\n",
    "    denom1 = M_exp[i,:] + I_mm[j,:]\n",
    "    V_sub = M_ap[:,k]\n",
    "    #denom2 = np.multiply(V_sub,(M_exp[:,j]+I_aa[:,i]))\n",
    "    denom2 = np.multiply(V_sub,M_exp[:,j]) +I_aa[:,i]\n",
    "    DHA_imj =( M_exp[i,:] + M_pm[k,:])[j]*M_ap[i,k]*M_pm[k,j]/np.sqrt(np.linalg.norm(denom1)*np.linalg.norm(denom2))\n",
    "    return DHA_imj\n",
    "    "
   ]
  },
  {
   "cell_type": "markdown",
   "metadata": {},
   "source": [
    "implement equation 25"
   ]
  },
  {
   "cell_type": "code",
   "execution_count": 3,
   "metadata": {},
   "outputs": [],
   "source": [
    "def DHA_whole(i):\n",
    "    (num_m,num_p) = M_mp.shape    \n",
    "    res = np.zeros(num_m)\n",
    "    for k in range(0,num_p):\n",
    "        li_paper = []\n",
    "        for j in range(0,num_m):\n",
    "            li_paper.append(DHA(i,k,j))\n",
    "        res += np.array(li_paper)\n",
    "    return res"
   ]
  },
  {
   "cell_type": "markdown",
   "metadata": {},
   "source": [
    "generate the adjacency matrix of the networks"
   ]
  },
  {
   "cell_type": "markdown",
   "metadata": {},
   "source": [
    "network in Fig.7"
   ]
  },
  {
   "cell_type": "code",
   "execution_count": 4,
   "metadata": {},
   "outputs": [],
   "source": [
    "M_ap = np.array([[1,0,0,0,0,0],[0,1,1,0,0,0],[0,0,0,1,1,0],[0,0,0,0,0,1]])\n",
    "M_mp = np.array([[0,1,1,0,0,1],[1,0,0,1,1,0],[1,1,0,1,0,1]])\n",
    "M_exp = np.array([[0,0,0],[0,0,0],[0,0,0],[0,0,0]])\n",
    "\n",
    "m = 3\n",
    "a = 4\n",
    "\n",
    "I_aa = np.eye(a,a)\n",
    "I_mm = np.eye(m,m)"
   ]
  },
  {
   "cell_type": "markdown",
   "metadata": {},
   "source": [
    "we run DHA on the first 5 years(note that the networks in the first 5 years are identical)"
   ]
  },
  {
   "cell_type": "code",
   "execution_count": 5,
   "metadata": {},
   "outputs": [
    {
     "name": "stdout",
     "output_type": "stream",
     "text": [
      "[[0. 1. 1.]\n",
      " [2. 0. 1.]\n",
      " [0. 2. 1.]\n",
      " [1. 0. 1.]]\n",
      "[[0.         1.94574161 1.94574161]\n",
      " [3.94800749 0.         1.84089642]\n",
      " [0.         3.94800749 1.84089642]\n",
      " [1.94574161 0.         1.94574161]]\n",
      "[[0.         2.85920054 2.85920054]\n",
      " [5.88422611 0.         2.60514684]\n",
      " [0.         5.88422611 2.60514684]\n",
      " [2.85920054 0.         2.85920054]]\n",
      "[[0.         3.75558442 3.75558442]\n",
      " [7.81841593 0.         3.32793561]\n",
      " [0.         7.81841593 3.32793561]\n",
      " [3.75558442 0.         3.75558442]]\n",
      "[[0.         4.64146726 4.64146726]\n",
      " [9.75293768 0.         4.02385654]\n",
      " [0.         9.75293768 4.02385654]\n",
      " [4.64146726 0.         4.64146726]]\n"
     ]
    }
   ],
   "source": [
    "for y in range(0,5): \n",
    "    M_exp = M_exp + np.array([DHA_whole(0),DHA_whole(1),DHA_whole(2),DHA_whole(3)])\n",
    "    print(M_exp)"
   ]
  },
  {
   "cell_type": "markdown",
   "metadata": {},
   "source": [
    "generate the adjacency matrix of the networks in Fig.8 "
   ]
  },
  {
   "cell_type": "code",
   "execution_count": 6,
   "metadata": {},
   "outputs": [],
   "source": [
    "m = 3\n",
    "a = 4\n",
    "\n",
    "I_aa = np.eye(a,a)\n",
    "I_mm = np.eye(m,m)\n",
    "\n",
    "# note that we can consider p2,p4,p6 as duplications of p1,p3,p5 rescpective, here we use only 3 papers \n",
    "# and each link between authors and papers will be counted twice\n",
    "M_ap = np.array([[2,0,0],[2,2,0],[0,2,2],[0,0,2]])\n",
    "M_mp = np.array([[0,1,1],[1,1,0],[1,0,1]])"
   ]
  },
  {
   "cell_type": "code",
   "execution_count": 7,
   "metadata": {},
   "outputs": [
    {
     "name": "stdout",
     "output_type": "stream",
     "text": [
      "[[ 0.          5.943256    5.79668841]\n",
      " [11.15454075  0.34007483  4.86641174]\n",
      " [ 0.34007483 11.15454075  4.86641174]\n",
      " [ 5.943256    0.          5.79668841]]\n",
      "[[ 0.          7.22860575  6.93064691]\n",
      " [12.54554431  0.72308559  5.6977417 ]\n",
      " [ 0.72308559 12.54554431  5.6977417 ]\n",
      " [ 7.22860575  0.          6.93064691]]\n",
      "[[ 0.          8.50202078  8.04953329]\n",
      " [13.92719556  1.14878544  6.52094035]\n",
      " [ 1.14878544 13.92719556  6.52094035]\n",
      " [ 8.50202078  0.          8.04953329]]\n",
      "[[ 0.          9.76607508  9.15712499]\n",
      " [15.30036816  1.61676346  7.33788128]\n",
      " [ 1.61676346 15.30036816  7.33788128]\n",
      " [ 9.76607508  0.          9.15712499]]\n",
      "[[ 0.         11.02234327 10.25591674]\n",
      " [16.66567376  2.1265307   8.14977916]\n",
      " [ 2.1265307  16.66567376  8.14977916]\n",
      " [11.02234327  0.         10.25591674]]\n"
     ]
    }
   ],
   "source": [
    "for y in range(5,10): \n",
    "    M_exp = M_exp + np.array([DHA_whole(0),DHA_whole(1),DHA_whole(2),DHA_whole(3)])\n",
    "    print(M_exp)"
   ]
  },
  {
   "cell_type": "code",
   "execution_count": null,
   "metadata": {},
   "outputs": [],
   "source": []
  }
 ],
 "metadata": {
  "kernelspec": {
   "display_name": "Python 3",
   "language": "python",
   "name": "python3"
  },
  "language_info": {
   "codemirror_mode": {
    "name": "ipython",
    "version": 3
   },
   "file_extension": ".py",
   "mimetype": "text/x-python",
   "name": "python",
   "nbconvert_exporter": "python",
   "pygments_lexer": "ipython3",
   "version": "3.6.8"
  }
 },
 "nbformat": 4,
 "nbformat_minor": 2
}
